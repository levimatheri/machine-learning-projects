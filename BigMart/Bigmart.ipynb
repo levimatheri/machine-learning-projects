{
 "cells": [
  {
   "cell_type": "code",
   "execution_count": 1,
   "metadata": {
    "colab": {},
    "colab_type": "code",
    "id": "ndgc4yeXCxjN"
   },
   "outputs": [],
   "source": [
    "import numpy as np\n",
    "import pandas as pd\n",
    "from sklearn import model_selection\n",
    "import tensorflow as tf"
   ]
  },
  {
   "cell_type": "code",
   "execution_count": 2,
   "metadata": {
    "colab": {},
    "colab_type": "code",
    "id": "R54mokezF753"
   },
   "outputs": [],
   "source": [
    "bm = pd.read_csv('bigMart_train.csv')"
   ]
  },
  {
   "cell_type": "code",
   "execution_count": 3,
   "metadata": {},
   "outputs": [
    {
     "data": {
      "text/html": [
       "<div>\n",
       "<style scoped>\n",
       "    .dataframe tbody tr th:only-of-type {\n",
       "        vertical-align: middle;\n",
       "    }\n",
       "\n",
       "    .dataframe tbody tr th {\n",
       "        vertical-align: top;\n",
       "    }\n",
       "\n",
       "    .dataframe thead th {\n",
       "        text-align: right;\n",
       "    }\n",
       "</style>\n",
       "<table border=\"1\" class=\"dataframe\">\n",
       "  <thead>\n",
       "    <tr style=\"text-align: right;\">\n",
       "      <th></th>\n",
       "      <th>Item_Identifier</th>\n",
       "      <th>Item_Weight</th>\n",
       "      <th>Item_Fat_Content</th>\n",
       "      <th>Item_Visibility</th>\n",
       "      <th>Item_Type</th>\n",
       "      <th>Item_MRP</th>\n",
       "      <th>Outlet_Identifier</th>\n",
       "      <th>Outlet_Establishment_Year</th>\n",
       "      <th>Outlet_Size</th>\n",
       "      <th>Outlet_Location_Type</th>\n",
       "      <th>Outlet_Type</th>\n",
       "      <th>Item_Outlet_Sales</th>\n",
       "    </tr>\n",
       "  </thead>\n",
       "  <tbody>\n",
       "    <tr>\n",
       "      <th>0</th>\n",
       "      <td>FDA15</td>\n",
       "      <td>9.30</td>\n",
       "      <td>Low Fat</td>\n",
       "      <td>0.016047</td>\n",
       "      <td>Dairy</td>\n",
       "      <td>249.8092</td>\n",
       "      <td>OUT049</td>\n",
       "      <td>1999</td>\n",
       "      <td>Medium</td>\n",
       "      <td>Tier 1</td>\n",
       "      <td>Supermarket Type1</td>\n",
       "      <td>3735.1380</td>\n",
       "    </tr>\n",
       "    <tr>\n",
       "      <th>1</th>\n",
       "      <td>DRC01</td>\n",
       "      <td>5.92</td>\n",
       "      <td>Regular</td>\n",
       "      <td>0.019278</td>\n",
       "      <td>Soft Drinks</td>\n",
       "      <td>48.2692</td>\n",
       "      <td>OUT018</td>\n",
       "      <td>2009</td>\n",
       "      <td>Medium</td>\n",
       "      <td>Tier 3</td>\n",
       "      <td>Supermarket Type2</td>\n",
       "      <td>443.4228</td>\n",
       "    </tr>\n",
       "    <tr>\n",
       "      <th>2</th>\n",
       "      <td>FDN15</td>\n",
       "      <td>17.50</td>\n",
       "      <td>Low Fat</td>\n",
       "      <td>0.016760</td>\n",
       "      <td>Meat</td>\n",
       "      <td>141.6180</td>\n",
       "      <td>OUT049</td>\n",
       "      <td>1999</td>\n",
       "      <td>Medium</td>\n",
       "      <td>Tier 1</td>\n",
       "      <td>Supermarket Type1</td>\n",
       "      <td>2097.2700</td>\n",
       "    </tr>\n",
       "    <tr>\n",
       "      <th>3</th>\n",
       "      <td>FDX07</td>\n",
       "      <td>19.20</td>\n",
       "      <td>Regular</td>\n",
       "      <td>0.000000</td>\n",
       "      <td>Fruits and Vegetables</td>\n",
       "      <td>182.0950</td>\n",
       "      <td>OUT010</td>\n",
       "      <td>1998</td>\n",
       "      <td>NaN</td>\n",
       "      <td>Tier 3</td>\n",
       "      <td>Grocery Store</td>\n",
       "      <td>732.3800</td>\n",
       "    </tr>\n",
       "  </tbody>\n",
       "</table>\n",
       "</div>"
      ],
      "text/plain": [
       "  Item_Identifier  Item_Weight Item_Fat_Content  Item_Visibility  \\\n",
       "0           FDA15         9.30          Low Fat         0.016047   \n",
       "1           DRC01         5.92          Regular         0.019278   \n",
       "2           FDN15        17.50          Low Fat         0.016760   \n",
       "3           FDX07        19.20          Regular         0.000000   \n",
       "\n",
       "               Item_Type  Item_MRP Outlet_Identifier  \\\n",
       "0                  Dairy  249.8092            OUT049   \n",
       "1            Soft Drinks   48.2692            OUT018   \n",
       "2                   Meat  141.6180            OUT049   \n",
       "3  Fruits and Vegetables  182.0950            OUT010   \n",
       "\n",
       "   Outlet_Establishment_Year Outlet_Size Outlet_Location_Type  \\\n",
       "0                       1999      Medium               Tier 1   \n",
       "1                       2009      Medium               Tier 3   \n",
       "2                       1999      Medium               Tier 1   \n",
       "3                       1998         NaN               Tier 3   \n",
       "\n",
       "         Outlet_Type  Item_Outlet_Sales  \n",
       "0  Supermarket Type1          3735.1380  \n",
       "1  Supermarket Type2           443.4228  \n",
       "2  Supermarket Type1          2097.2700  \n",
       "3      Grocery Store           732.3800  "
      ]
     },
     "execution_count": 3,
     "metadata": {},
     "output_type": "execute_result"
    }
   ],
   "source": [
    "bm.head(4)"
   ]
  },
  {
   "cell_type": "code",
   "execution_count": 4,
   "metadata": {
    "colab": {},
    "colab_type": "code",
    "id": "1kAiW1qAGW2Y"
   },
   "outputs": [],
   "source": [
    "bm['Item_Weight'] = bm['Item_Weight'].fillna(bm['Item_Weight'].mean())"
   ]
  },
  {
   "cell_type": "code",
   "execution_count": 5,
   "metadata": {
    "colab": {},
    "colab_type": "code",
    "id": "-GF5kHJ5Gy4X"
   },
   "outputs": [],
   "source": [
    "from sklearn.preprocessing import LabelEncoder\n",
    "\n",
    "def encode(dataframe, attr_list):\n",
    "  le = LabelEncoder()\n",
    "  for a in attr_list:\n",
    "    dataframe[a] = le.fit_transform(dataframe[a].astype(str))"
   ]
  },
  {
   "cell_type": "code",
   "execution_count": 6,
   "metadata": {
    "colab": {},
    "colab_type": "code",
    "id": "1BmBQRvJHfsX"
   },
   "outputs": [],
   "source": [
    "encode(bm, ['Item_Fat_Content', 'Item_Type', 'Outlet_Size', 'Outlet_Location_Type', 'Outlet_Type'])"
   ]
  },
  {
   "cell_type": "code",
   "execution_count": 7,
   "metadata": {
    "colab": {},
    "colab_type": "code",
    "id": "H7FEBWKqIY64"
   },
   "outputs": [],
   "source": [
    "import seaborn as sb"
   ]
  },
  {
   "cell_type": "code",
   "execution_count": 8,
   "metadata": {
    "colab": {},
    "colab_type": "code",
    "id": "aA0ASFo-IcHn"
   },
   "outputs": [],
   "source": [
    "def remove_skewness(bm):\n",
    "    for i in bm.describe():\n",
    "        if i not in ['Item_Identifier', 'Outlet_Identifier']:\n",
    "            if bm[i].skew() >= 1.0:\n",
    "                bm[i] = np.log1p(bm[i])"
   ]
  },
  {
   "cell_type": "code",
   "execution_count": 9,
   "metadata": {
    "colab": {},
    "colab_type": "code",
    "id": "0_3NBQrBJo84"
   },
   "outputs": [],
   "source": [
    "remove_skewness(bm)"
   ]
  },
  {
   "cell_type": "code",
   "execution_count": 10,
   "metadata": {
    "colab": {},
    "colab_type": "code",
    "id": "mMtoNor-Jwdg"
   },
   "outputs": [],
   "source": [
    "import matplotlib.pyplot as plt"
   ]
  },
  {
   "cell_type": "code",
   "execution_count": 11,
   "metadata": {
    "colab": {
     "base_uri": "https://localhost:8080/",
     "height": 613
    },
    "colab_type": "code",
    "executionInfo": {
     "elapsed": 1282,
     "status": "ok",
     "timestamp": 1538076143179,
     "user": {
      "displayName": "lmmuriuki1",
      "photoUrl": "",
      "userId": "16639455567044238962"
     },
     "user_tz": 240
    },
    "id": "TcZcb99yJ55I",
    "outputId": "ebb1dd4f-80ea-4ba4-d71d-fcb35a5dacab"
   },
   "outputs": [
    {
     "data": {
      "text/plain": [
       "<matplotlib.axes._subplots.AxesSubplot at 0x16a64b9d4e0>"
      ]
     },
     "execution_count": 11,
     "metadata": {},
     "output_type": "execute_result"
    },
    {
     "data": {
      "image/png": "[encoded data removed]",
      "text/plain": [
       "<Figure size 1440x720 with 2 Axes>"
      ]
     },
     "metadata": {
      "needs_background": "light"
     },
     "output_type": "display_data"
    }
   ],
   "source": [
    "plt.figure(figsize=(20, 10))\n",
    "sb.heatmap(bm.corr().abs(), annot=True)"
   ]
  },
  {
   "cell_type": "code",
   "execution_count": 12,
   "metadata": {
    "colab": {},
    "colab_type": "code",
    "id": "mKrcJs_hJ9dw"
   },
   "outputs": [],
   "source": [
    "to_keep = ['Item_MRP', 'Outlet_Type', 'Outlet_Location_Type', 'Outlet_Size', 'Outlet_Establishment_Year', 'Item_Visibility', 'Item_Outlet_Sales']"
   ]
  },
  {
   "cell_type": "code",
   "execution_count": 13,
   "metadata": {
    "colab": {},
    "colab_type": "code",
    "id": "6k8bclv_LrSg"
   },
   "outputs": [],
   "source": [
    "Y = bm['Item_Outlet_Sales']\n",
    "X = bm[to_keep]"
   ]
  },
  {
   "cell_type": "code",
   "execution_count": 14,
   "metadata": {},
   "outputs": [],
   "source": [
    "X_train, X_test, Y_train, Y_test = model_selection.train_test_split(X, Y, test_size=0.33)\n",
    "\n",
    "Y_train = Y_train.values.reshape(-1, 1)\n",
    "Y_test = Y_test.values.reshape(-1, 1)\n",
    "\n",
    "from sklearn.preprocessing import MinMaxScaler\n",
    "scalerXtrain = MinMaxScaler()\n",
    "scalerXtest = MinMaxScaler()\n",
    "scalerYtrain = MinMaxScaler()\n",
    "scalerYtest = MinMaxScaler()\n",
    "\n",
    "X_train = scalerXtrain.fit_transform(X_train)\n",
    "X_test = scalerXtest.fit_transform(X_test)\n",
    "Y_train = scalerYtrain.fit_transform(Y_train)\n",
    "Y_test = scalerYtest.fit_transform(Y_test)"
   ]
  },
  {
   "cell_type": "code",
   "execution_count": 15,
   "metadata": {
    "colab": {},
    "colab_type": "code",
    "id": "tgR5EwdXMCZR"
   },
   "outputs": [],
   "source": [
    "num_features = X_train.shape[1]\n",
    "with tf.name_scope(\"io\"):\n",
    "    inputs = tf.placeholder(tf.float32, shape=[None, num_features], name=\"x_train\")\n",
    "    outputs = tf.placeholder(tf.float32, shape=[None, 1], name=\"y_train\")"
   ]
  },
  {
   "cell_type": "code",
   "execution_count": 16,
   "metadata": {
    "colab": {},
    "colab_type": "code",
    "id": "XsTWyhhBM8T4"
   },
   "outputs": [],
   "source": [
    "with tf.name_scope(\"layers\"):\n",
    "    layers = [num_features, 4, 1]\n",
    "    W = []\n",
    "    b = []\n",
    "  \n",
    "    for i in range(1, len(layers)):\n",
    "        W.append(tf.Variable(tf.random_normal([layers[i-1], layers[i]], 0, 0.1, dtype=tf.float32), name=\"W%d\" % i))\n",
    "        b.append(tf.Variable(tf.zeros([layers[i]], dtype=tf.float32), name=\"b%d\" % i))"
   ]
  },
  {
   "cell_type": "code",
   "execution_count": 17,
   "metadata": {
    "colab": {},
    "colab_type": "code",
    "id": "Hun61-LDQ1DR"
   },
   "outputs": [],
   "source": [
    "def model(inputs, W, b):\n",
    "  lastY = inputs\n",
    "  for i, (Wi, bi) in enumerate(zip(W, b)):\n",
    "    y = tf.add(tf.matmul(lastY, W[i]), b[i])  \n",
    "    if i == len(b)-1:\n",
    "      return tf.nn.sigmoid(y)\n",
    "    \n",
    "    lastY = tf.nn.relu(y)"
   ]
  },
  {
   "cell_type": "code",
   "execution_count": 18,
   "metadata": {
    "colab": {},
    "colab_type": "code",
    "id": "Prg1Q0qRQ325"
   },
   "outputs": [],
   "source": [
    "with tf.name_scope(\"ops\"):\n",
    "    yout = model(inputs, W, b)\n",
    "  \n",
    "    cost_op = tf.reduce_mean(tf.square(yout - outputs))\n",
    "    tf.summary.scalar(\"mse\", cost_op)\n",
    "    summ = tf.summary.merge_all()\n",
    "  \n",
    "    alpha = 0.001\n",
    "    train = tf.train.AdamOptimizer(learning_rate=alpha).minimize(cost_op)"
   ]
  },
  {
   "cell_type": "code",
   "execution_count": 19,
   "metadata": {},
   "outputs": [],
   "source": [
    "bm_test = pd.read_csv('bigMart_test.csv')"
   ]
  },
  {
   "cell_type": "code",
   "execution_count": 20,
   "metadata": {},
   "outputs": [
    {
     "data": {
      "text/html": [
       "<div>\n",
       "<style scoped>\n",
       "    .dataframe tbody tr th:only-of-type {\n",
       "        vertical-align: middle;\n",
       "    }\n",
       "\n",
       "    .dataframe tbody tr th {\n",
       "        vertical-align: top;\n",
       "    }\n",
       "\n",
       "    .dataframe thead th {\n",
       "        text-align: right;\n",
       "    }\n",
       "</style>\n",
       "<table border=\"1\" class=\"dataframe\">\n",
       "  <thead>\n",
       "    <tr style=\"text-align: right;\">\n",
       "      <th></th>\n",
       "      <th>Item_Identifier</th>\n",
       "      <th>Item_Weight</th>\n",
       "      <th>Item_Fat_Content</th>\n",
       "      <th>Item_Visibility</th>\n",
       "      <th>Item_Type</th>\n",
       "      <th>Item_MRP</th>\n",
       "      <th>Outlet_Identifier</th>\n",
       "      <th>Outlet_Establishment_Year</th>\n",
       "      <th>Outlet_Size</th>\n",
       "      <th>Outlet_Location_Type</th>\n",
       "      <th>Outlet_Type</th>\n",
       "    </tr>\n",
       "  </thead>\n",
       "  <tbody>\n",
       "    <tr>\n",
       "      <th>0</th>\n",
       "      <td>FDW58</td>\n",
       "      <td>20.750</td>\n",
       "      <td>Low Fat</td>\n",
       "      <td>0.007565</td>\n",
       "      <td>Snack Foods</td>\n",
       "      <td>107.8622</td>\n",
       "      <td>OUT049</td>\n",
       "      <td>1999</td>\n",
       "      <td>Medium</td>\n",
       "      <td>Tier 1</td>\n",
       "      <td>Supermarket Type1</td>\n",
       "    </tr>\n",
       "    <tr>\n",
       "      <th>1</th>\n",
       "      <td>FDW14</td>\n",
       "      <td>8.300</td>\n",
       "      <td>reg</td>\n",
       "      <td>0.038428</td>\n",
       "      <td>Dairy</td>\n",
       "      <td>87.3198</td>\n",
       "      <td>OUT017</td>\n",
       "      <td>2007</td>\n",
       "      <td>NaN</td>\n",
       "      <td>Tier 2</td>\n",
       "      <td>Supermarket Type1</td>\n",
       "    </tr>\n",
       "    <tr>\n",
       "      <th>2</th>\n",
       "      <td>NCN55</td>\n",
       "      <td>14.600</td>\n",
       "      <td>Low Fat</td>\n",
       "      <td>0.099575</td>\n",
       "      <td>Others</td>\n",
       "      <td>241.7538</td>\n",
       "      <td>OUT010</td>\n",
       "      <td>1998</td>\n",
       "      <td>NaN</td>\n",
       "      <td>Tier 3</td>\n",
       "      <td>Grocery Store</td>\n",
       "    </tr>\n",
       "    <tr>\n",
       "      <th>3</th>\n",
       "      <td>FDQ58</td>\n",
       "      <td>7.315</td>\n",
       "      <td>Low Fat</td>\n",
       "      <td>0.015388</td>\n",
       "      <td>Snack Foods</td>\n",
       "      <td>155.0340</td>\n",
       "      <td>OUT017</td>\n",
       "      <td>2007</td>\n",
       "      <td>NaN</td>\n",
       "      <td>Tier 2</td>\n",
       "      <td>Supermarket Type1</td>\n",
       "    </tr>\n",
       "    <tr>\n",
       "      <th>4</th>\n",
       "      <td>FDY38</td>\n",
       "      <td>NaN</td>\n",
       "      <td>Regular</td>\n",
       "      <td>0.118599</td>\n",
       "      <td>Dairy</td>\n",
       "      <td>234.2300</td>\n",
       "      <td>OUT027</td>\n",
       "      <td>1985</td>\n",
       "      <td>Medium</td>\n",
       "      <td>Tier 3</td>\n",
       "      <td>Supermarket Type3</td>\n",
       "    </tr>\n",
       "  </tbody>\n",
       "</table>\n",
       "</div>"
      ],
      "text/plain": [
       "  Item_Identifier  Item_Weight Item_Fat_Content  Item_Visibility    Item_Type  \\\n",
       "0           FDW58       20.750          Low Fat         0.007565  Snack Foods   \n",
       "1           FDW14        8.300              reg         0.038428        Dairy   \n",
       "2           NCN55       14.600          Low Fat         0.099575       Others   \n",
       "3           FDQ58        7.315          Low Fat         0.015388  Snack Foods   \n",
       "4           FDY38          NaN          Regular         0.118599        Dairy   \n",
       "\n",
       "   Item_MRP Outlet_Identifier  Outlet_Establishment_Year Outlet_Size  \\\n",
       "0  107.8622            OUT049                       1999      Medium   \n",
       "1   87.3198            OUT017                       2007         NaN   \n",
       "2  241.7538            OUT010                       1998         NaN   \n",
       "3  155.0340            OUT017                       2007         NaN   \n",
       "4  234.2300            OUT027                       1985      Medium   \n",
       "\n",
       "  Outlet_Location_Type        Outlet_Type  \n",
       "0               Tier 1  Supermarket Type1  \n",
       "1               Tier 2  Supermarket Type1  \n",
       "2               Tier 3      Grocery Store  \n",
       "3               Tier 2  Supermarket Type1  \n",
       "4               Tier 3  Supermarket Type3  "
      ]
     },
     "execution_count": 20,
     "metadata": {},
     "output_type": "execute_result"
    }
   ],
   "source": [
    "bm_test.head(5)"
   ]
  },
  {
   "cell_type": "code",
   "execution_count": 21,
   "metadata": {},
   "outputs": [
    {
     "data": {
      "text/plain": [
       "(2813, 1)"
      ]
     },
     "execution_count": 21,
     "metadata": {},
     "output_type": "execute_result"
    }
   ],
   "source": [
    "Y_test.shape"
   ]
  },
  {
   "cell_type": "code",
   "execution_count": 22,
   "metadata": {
    "colab": {
     "base_uri": "https://localhost:8080/",
     "height": 353
    },
    "colab_type": "code",
    "executionInfo": {
     "elapsed": 30463,
     "status": "ok",
     "timestamp": 1538076930993,
     "user": {
      "displayName": "lmmuriuki1",
      "photoUrl": "",
      "userId": "16639455567044238962"
     },
     "user_tz": 240
    },
    "id": "occjcFVKT3Wr",
    "outputId": "00898a79-8a4b-4f38-a52c-8911e0a545ec"
   },
   "outputs": [
    {
     "name": "stdout",
     "output_type": "stream",
     "text": [
      "Cost after 1000 epochs is 0.00919786\n",
      "Cost after 2000 epochs is 0.00195092\n",
      "Cost after 3000 epochs is 0.00076952\n",
      "Cost after 4000 epochs is 0.00041125\n",
      "Cost after 5000 epochs is 0.00025974\n",
      "Cost after 6000 epochs is 0.00017641\n",
      "Cost after 7000 epochs is 0.00012241\n",
      "Cost after 8000 epochs is 0.00009210\n",
      "Cost after 9000 epochs is 0.00008103\n",
      "Cost after 10000 epochs is 0.00007822\n",
      "Cost after 11000 epochs is 0.00007760\n",
      "Cost after 12000 epochs is 0.00007756\n",
      "Cost after 13000 epochs is 0.00007756\n",
      "Cost after 14000 epochs is 0.00007756\n",
      "Cost after 15000 epochs is 0.00007756\n",
      "Cost after 16000 epochs is 0.00007756\n",
      "Cost after 17000 epochs is 0.00007756\n",
      "Cost after 18000 epochs is 0.00007756\n",
      "Cost after 19000 epochs is 0.00007756\n",
      "Cost after 20000 epochs is 0.00007756\n",
      "Test Cost = 7.39018e-05\n",
      "\n",
      "A few predictions\n",
      "Real\tPredicted\n",
      "\n",
      "8.485777\t8.510478\n",
      "8.505910\t8.532222\n",
      "7.627055\t7.646801\n",
      "8.642878\t8.669118\n",
      "7.374582\t7.402540\n",
      "8.091754\t8.058959\n",
      "7.842940\t7.846590\n",
      "8.524059\t8.562739\n",
      "6.461731\t6.426769\n",
      "7.441583\t7.466608\n"
     ]
    }
   ],
   "source": [
    "# train\n",
    "batch_size = X_train.shape[0]\n",
    "test_batch_size = 1\n",
    "num_batches = int(X_train.shape[0] / batch_size)\n",
    "test_num_batches = int(X_test.shape[0] / test_batch_size)\n",
    "total_epochs = 20000\n",
    "epoch = 0\n",
    "\n",
    "\n",
    "costs = []\n",
    "\n",
    "sess = tf.Session()\n",
    "\n",
    "with sess.as_default():\n",
    "    sess.run(tf.global_variables_initializer())\n",
    "\n",
    "    writer = tf.summary.FileWriter(\"/tmp/bigmart/5\")\n",
    "    writer.add_graph(sess.graph)\n",
    "\n",
    "    while True:\n",
    "        cost = 0.0\n",
    "        for b in range(num_batches):\n",
    "            x_batch = X_train[b*batch_size : (b+1)*batch_size]\n",
    "            y_batch = Y_train[b*batch_size : (b+1)*batch_size]\n",
    "\n",
    "            sess.run(train, feed_dict={inputs: x_batch, outputs: y_batch})\n",
    "\n",
    "            c = sess.run(cost_op, feed_dict={inputs: x_batch, outputs: y_batch})\n",
    "            s = sess.run(summ, feed_dict={inputs: x_batch, outputs: y_batch})\n",
    "            writer.add_summary(s, epoch)\n",
    "            cost += c\n",
    "        cost /= num_batches\n",
    "        costs.append(cost)\n",
    "\n",
    "        epoch += 1\n",
    "        if epoch % 1000 == 0:\n",
    "            print(\"Cost after %d epochs is %1.8f\" % (epoch, cost))\n",
    "        if epoch >= total_epochs:\n",
    "            break\n",
    "        \n",
    "    print( \"Test Cost =\", sess.run(cost_op, feed_dict={inputs: X_test, outputs: Y_test}))\n",
    "    pred_y = sess.run(yout, feed_dict={inputs: X_test, outputs: Y_test})\n",
    "    \n",
    "    print(\"\\nA few predictions\\nReal\\tPredicted\\n\")\n",
    "    \n",
    "    # inverse scaler to see appropriate outlet sales\n",
    "    Y_test_new = scalerYtest.inverse_transform(Y_test)\n",
    "    pred_y_new = scalerYtest.inverse_transform(pred_y)\n",
    "    for (y, yhat) in list(zip(Y_test_new, pred_y_new))[0:10]:\n",
    "        print(\"%1.6f\\t%1.6f\" % (y, yhat))"
   ]
  }
 ],
 "metadata": {
  "colab": {
   "name": "Bigmart.ipynb",
   "provenance": [],
   "version": "0.3.2"
  },
  "kernelspec": {
   "display_name": "Python 3",
   "language": "python",
   "name": "python3"
  },
  "language_info": {
   "codemirror_mode": {
    "name": "ipython",
    "version": 3
   },
   "file_extension": ".py",
   "mimetype": "text/x-python",
   "name": "python",
   "nbconvert_exporter": "python",
   "pygments_lexer": "ipython3",
   "version": "3.6.2"
  }
 },
 "nbformat": 4,
 "nbformat_minor": 1
}
