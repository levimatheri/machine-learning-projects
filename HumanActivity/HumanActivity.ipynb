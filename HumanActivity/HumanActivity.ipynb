{
  "nbformat": 4,
  "nbformat_minor": 0,
  "metadata": {
    "colab": {
      "name": "HumanActivity.ipynb",
      "version": "0.3.2",
      "provenance": [],
      "collapsed_sections": []
    },
    "kernelspec": {
      "name": "python3",
      "display_name": "Python 3"
    },
    "accelerator": "GPU"
  },
  "cells": [
    {
      "metadata": {
        "id": "VXErpTkVL66U",
        "colab_type": "code",
        "colab": {}
      },
      "cell_type": "code",
      "source": [
        "import pandas as pd\n",
        "import numpy as np\n",
        "import matplotlib.pyplot as plt\n",
        "\n",
        "from sklearn.preprocessing import StandardScaler\n",
        "from sklearn.decomposition import PCA\n",
        "from sklearn.model_selection import KFold, cross_val_score\n",
        "from sklearn import svm\n",
        "from sklearn.metrics import accuracy_score\n",
        "\n",
        "%matplotlib inline\n"
      ],
      "execution_count": 0,
      "outputs": []
    },
    {
      "metadata": {
        "id": "_kbczyotm6V1",
        "colab_type": "code",
        "outputId": "17c778d7-2459-4ee8-9657-7ab76aaefae9",
        "colab": {
          "base_uri": "https://localhost:8080/",
          "height": 36
        }
      },
      "cell_type": "code",
      "source": [
        "from google.colab import drive\n",
        "drive.mount('/content/gdrive')"
      ],
      "execution_count": 2,
      "outputs": [
        {
          "output_type": "stream",
          "text": [
            "Drive already mounted at /content/gdrive; to attempt to forcibly remount, call drive.mount(\"/content/gdrive\", force_remount=True).\n"
          ],
          "name": "stdout"
        }
      ]
    },
    {
      "metadata": {
        "id": "Ylvoz-gz3H5X",
        "colab_type": "code",
        "outputId": "80d9e52a-a46a-4ae6-b1e2-788041fb0944",
        "colab": {
          "base_uri": "https://localhost:8080/",
          "height": 74
        }
      },
      "cell_type": "code",
      "source": [
        "# obtain features\n",
        "with open('/content/gdrive/My Drive/features.txt') as feature_file:\n",
        "  names = feature_file.readlines()\n",
        "  names = map(lambda x: x.strip(), names)\n",
        "  names = list(names)\n",
        "\n",
        "# split data\n",
        "X_train = pd.read_csv('/content/gdrive/My Drive/X_train.txt', header=None, delimiter=r\"\\s+\", names=names)\n",
        "X_test = pd.read_csv('/content/gdrive/My Drive/X_test.txt', header=None, delimiter=r\"\\s+\", names=names)\n",
        "y_train = pd.read_csv('/content/gdrive/My Drive/y_train.txt', header=None)\n",
        "y_test = pd.read_csv('/content/gdrive/My Drive/y_test.txt', header=None)"
      ],
      "execution_count": 3,
      "outputs": [
        {
          "output_type": "stream",
          "text": [
            "/usr/local/lib/python3.6/dist-packages/pandas/io/parsers.py:709: UserWarning: Duplicate names specified. This will raise an error in the future.\n",
            "  return _read(filepath_or_buffer, kwds)\n"
          ],
          "name": "stderr"
        }
      ]
    },
    {
      "metadata": {
        "id": "zsiVMpFg_vMt",
        "colab_type": "code",
        "outputId": "d0c3d719-1cc7-458b-94e1-9120a03fc825",
        "colab": {
          "base_uri": "https://localhost:8080/",
          "height": 241
        }
      },
      "cell_type": "code",
      "source": [
        "X_train.head(4)"
      ],
      "execution_count": 4,
      "outputs": [
        {
          "output_type": "execute_result",
          "data": {
            "text/html": [
              "<div>\n",
              "<style scoped>\n",
              "    .dataframe tbody tr th:only-of-type {\n",
              "        vertical-align: middle;\n",
              "    }\n",
              "\n",
              "    .dataframe tbody tr th {\n",
              "        vertical-align: top;\n",
              "    }\n",
              "\n",
              "    .dataframe thead th {\n",
              "        text-align: right;\n",
              "    }\n",
              "</style>\n",
              "<table border=\"1\" class=\"dataframe\">\n",
              "  <thead>\n",
              "    <tr style=\"text-align: right;\">\n",
              "      <th></th>\n",
              "      <th>'tBodyAcc-mean()-X',</th>\n",
              "      <th>'tBodyAcc-mean()-Y',</th>\n",
              "      <th>'tBodyAcc-mean()-Z',</th>\n",
              "      <th>'tBodyAcc-std()-X',</th>\n",
              "      <th>'tBodyAcc-std()-Y',</th>\n",
              "      <th>'tBodyAcc-std()-Z',</th>\n",
              "      <th>'tBodyAcc-mad()-X',</th>\n",
              "      <th>'tBodyAcc-mad()-Y',</th>\n",
              "      <th>'tBodyAcc-mad()-Z',</th>\n",
              "      <th>'tBodyAcc-max()-X',</th>\n",
              "      <th>...</th>\n",
              "      <th>'fBodyBodyGyroJerkMag-meanFreq()',</th>\n",
              "      <th>'fBodyBodyGyroJerkMag-skewness()',</th>\n",
              "      <th>'fBodyBodyGyroJerkMag-kurtosis()',</th>\n",
              "      <th>'angle(tBodyAccMean,gravity)',</th>\n",
              "      <th>'angle(tBodyAccJerkMean),gravityMean)',</th>\n",
              "      <th>'angle(tBodyGyroMean,gravityMean)',</th>\n",
              "      <th>'angle(tBodyGyroJerkMean,gravityMean)',</th>\n",
              "      <th>'angle(X,gravityMean)',</th>\n",
              "      <th>'angle(Y,gravityMean)',</th>\n",
              "      <th>'angle(Z,gravityMean)',</th>\n",
              "    </tr>\n",
              "  </thead>\n",
              "  <tbody>\n",
              "    <tr>\n",
              "      <th>0</th>\n",
              "      <td>0.288585</td>\n",
              "      <td>-0.020294</td>\n",
              "      <td>-0.132905</td>\n",
              "      <td>-0.995279</td>\n",
              "      <td>-0.983111</td>\n",
              "      <td>-0.913526</td>\n",
              "      <td>-0.995112</td>\n",
              "      <td>-0.983185</td>\n",
              "      <td>-0.923527</td>\n",
              "      <td>-0.934724</td>\n",
              "      <td>...</td>\n",
              "      <td>-0.074323</td>\n",
              "      <td>-0.298676</td>\n",
              "      <td>-0.710304</td>\n",
              "      <td>-0.112754</td>\n",
              "      <td>0.030400</td>\n",
              "      <td>-0.464761</td>\n",
              "      <td>-0.018446</td>\n",
              "      <td>-0.841247</td>\n",
              "      <td>0.179941</td>\n",
              "      <td>-0.058627</td>\n",
              "    </tr>\n",
              "    <tr>\n",
              "      <th>1</th>\n",
              "      <td>0.278419</td>\n",
              "      <td>-0.016411</td>\n",
              "      <td>-0.123520</td>\n",
              "      <td>-0.998245</td>\n",
              "      <td>-0.975300</td>\n",
              "      <td>-0.960322</td>\n",
              "      <td>-0.998807</td>\n",
              "      <td>-0.974914</td>\n",
              "      <td>-0.957686</td>\n",
              "      <td>-0.943068</td>\n",
              "      <td>...</td>\n",
              "      <td>0.158075</td>\n",
              "      <td>-0.595051</td>\n",
              "      <td>-0.861499</td>\n",
              "      <td>0.053477</td>\n",
              "      <td>-0.007435</td>\n",
              "      <td>-0.732626</td>\n",
              "      <td>0.703511</td>\n",
              "      <td>-0.844788</td>\n",
              "      <td>0.180289</td>\n",
              "      <td>-0.054317</td>\n",
              "    </tr>\n",
              "    <tr>\n",
              "      <th>2</th>\n",
              "      <td>0.279653</td>\n",
              "      <td>-0.019467</td>\n",
              "      <td>-0.113462</td>\n",
              "      <td>-0.995380</td>\n",
              "      <td>-0.967187</td>\n",
              "      <td>-0.978944</td>\n",
              "      <td>-0.996520</td>\n",
              "      <td>-0.963668</td>\n",
              "      <td>-0.977469</td>\n",
              "      <td>-0.938692</td>\n",
              "      <td>...</td>\n",
              "      <td>0.414503</td>\n",
              "      <td>-0.390748</td>\n",
              "      <td>-0.760104</td>\n",
              "      <td>-0.118559</td>\n",
              "      <td>0.177899</td>\n",
              "      <td>0.100699</td>\n",
              "      <td>0.808529</td>\n",
              "      <td>-0.848933</td>\n",
              "      <td>0.180637</td>\n",
              "      <td>-0.049118</td>\n",
              "    </tr>\n",
              "    <tr>\n",
              "      <th>3</th>\n",
              "      <td>0.279174</td>\n",
              "      <td>-0.026201</td>\n",
              "      <td>-0.123283</td>\n",
              "      <td>-0.996091</td>\n",
              "      <td>-0.983403</td>\n",
              "      <td>-0.990675</td>\n",
              "      <td>-0.997099</td>\n",
              "      <td>-0.982750</td>\n",
              "      <td>-0.989302</td>\n",
              "      <td>-0.938692</td>\n",
              "      <td>...</td>\n",
              "      <td>0.404573</td>\n",
              "      <td>-0.117290</td>\n",
              "      <td>-0.482845</td>\n",
              "      <td>-0.036788</td>\n",
              "      <td>-0.012892</td>\n",
              "      <td>0.640011</td>\n",
              "      <td>-0.485366</td>\n",
              "      <td>-0.848649</td>\n",
              "      <td>0.181935</td>\n",
              "      <td>-0.047663</td>\n",
              "    </tr>\n",
              "  </tbody>\n",
              "</table>\n",
              "<p>4 rows × 561 columns</p>\n",
              "</div>"
            ],
            "text/plain": [
              "   'tBodyAcc-mean()-X',  'tBodyAcc-mean()-Y',  'tBodyAcc-mean()-Z',  \\\n",
              "0              0.288585             -0.020294             -0.132905   \n",
              "1              0.278419             -0.016411             -0.123520   \n",
              "2              0.279653             -0.019467             -0.113462   \n",
              "3              0.279174             -0.026201             -0.123283   \n",
              "\n",
              "   'tBodyAcc-std()-X',  'tBodyAcc-std()-Y',  'tBodyAcc-std()-Z',  \\\n",
              "0            -0.995279            -0.983111            -0.913526   \n",
              "1            -0.998245            -0.975300            -0.960322   \n",
              "2            -0.995380            -0.967187            -0.978944   \n",
              "3            -0.996091            -0.983403            -0.990675   \n",
              "\n",
              "   'tBodyAcc-mad()-X',  'tBodyAcc-mad()-Y',  'tBodyAcc-mad()-Z',  \\\n",
              "0            -0.995112            -0.983185            -0.923527   \n",
              "1            -0.998807            -0.974914            -0.957686   \n",
              "2            -0.996520            -0.963668            -0.977469   \n",
              "3            -0.997099            -0.982750            -0.989302   \n",
              "\n",
              "   'tBodyAcc-max()-X',           ...             \\\n",
              "0            -0.934724           ...              \n",
              "1            -0.943068           ...              \n",
              "2            -0.938692           ...              \n",
              "3            -0.938692           ...              \n",
              "\n",
              "   'fBodyBodyGyroJerkMag-meanFreq()',  'fBodyBodyGyroJerkMag-skewness()',  \\\n",
              "0                           -0.074323                           -0.298676   \n",
              "1                            0.158075                           -0.595051   \n",
              "2                            0.414503                           -0.390748   \n",
              "3                            0.404573                           -0.117290   \n",
              "\n",
              "   'fBodyBodyGyroJerkMag-kurtosis()',  'angle(tBodyAccMean,gravity)',  \\\n",
              "0                           -0.710304                       -0.112754   \n",
              "1                           -0.861499                        0.053477   \n",
              "2                           -0.760104                       -0.118559   \n",
              "3                           -0.482845                       -0.036788   \n",
              "\n",
              "   'angle(tBodyAccJerkMean),gravityMean)',  \\\n",
              "0                                 0.030400   \n",
              "1                                -0.007435   \n",
              "2                                 0.177899   \n",
              "3                                -0.012892   \n",
              "\n",
              "   'angle(tBodyGyroMean,gravityMean)',  \\\n",
              "0                            -0.464761   \n",
              "1                            -0.732626   \n",
              "2                             0.100699   \n",
              "3                             0.640011   \n",
              "\n",
              "   'angle(tBodyGyroJerkMean,gravityMean)',  'angle(X,gravityMean)',  \\\n",
              "0                                -0.018446                -0.841247   \n",
              "1                                 0.703511                -0.844788   \n",
              "2                                 0.808529                -0.848933   \n",
              "3                                -0.485366                -0.848649   \n",
              "\n",
              "   'angle(Y,gravityMean)',  'angle(Z,gravityMean)',  \n",
              "0                 0.179941                -0.058627  \n",
              "1                 0.180289                -0.054317  \n",
              "2                 0.180637                -0.049118  \n",
              "3                 0.181935                -0.047663  \n",
              "\n",
              "[4 rows x 561 columns]"
            ]
          },
          "metadata": {
            "tags": []
          },
          "execution_count": 4
        }
      ]
    },
    {
      "metadata": {
        "id": "RGGxvbfopqah",
        "colab_type": "code",
        "colab": {}
      },
      "cell_type": "code",
      "source": [
        "# for my sanity, label y column\n",
        "y_train.columns = ['label']\n",
        "y_test.columns = ['label']\n",
        "\n",
        "y_train_fin = y_train.values.ravel()\n",
        "y_test_fin = y_test.values.ravel()"
      ],
      "execution_count": 0,
      "outputs": []
    },
    {
      "metadata": {
        "id": "EQ6QcMdRm1fb",
        "colab_type": "code",
        "colab": {}
      },
      "cell_type": "code",
      "source": [
        "# scale our data\n",
        "scaler = StandardScaler()\n",
        "X_train_fin = scaler.fit_transform(X_train)\n",
        "X_test_fin = scaler.transform(X_test)"
      ],
      "execution_count": 0,
      "outputs": []
    },
    {
      "metadata": {
        "id": "ackbGeymBj2j",
        "colab_type": "code",
        "colab": {
          "base_uri": "https://localhost:8080/",
          "height": 284
        },
        "outputId": "512ced2a-4d92-4c95-9dc0-95a4e47fafab"
      },
      "cell_type": "code",
      "source": [
        "# get appropriate number of components for PCA\n",
        "pca_test = PCA(n_components=500)\n",
        "\n",
        "pca_test.fit(X_train_fin)\n",
        "\n",
        "# amount of variance that each component explains\n",
        "var = pca_test.explained_variance_ratio_\n",
        "\n",
        "# cumulative variance explained\n",
        "var1 = np.cumsum(np.round(pca_test.explained_variance_ratio_, decimals=4)*100)\n",
        "\n",
        "# print(var1)\n",
        "\n",
        "plt.plot(var1)\n"
      ],
      "execution_count": 7,
      "outputs": [
        {
          "output_type": "execute_result",
          "data": {
            "text/plain": [
              "[<matplotlib.lines.Line2D at 0x7f79d46188d0>]"
            ]
          },
          "metadata": {
            "tags": []
          },
          "execution_count": 7
        },
        {
          "output_type": "display_data",
          "data": {
            "image/png": "[encoded data removed]",
            "text/plain": [
              "<matplotlib.figure.Figure at 0x7f79ec0f2198>"
            ]
          },
          "metadata": {
            "tags": []
          }
        }
      ]
    },
    {
      "metadata": {
        "id": "vnp75NqGGtNo",
        "colab_type": "code",
        "colab": {}
      },
      "cell_type": "code",
      "source": [
        "# apply PCA\n",
        "pca = PCA(n_components=250)\n",
        "pca.fit(X_train_fin)\n",
        "X_train_fin = pca.transform(X_train_fin)\n",
        "X_test_fin = pca.transform(X_test_fin)"
      ],
      "execution_count": 0,
      "outputs": []
    },
    {
      "metadata": {
        "id": "ZD5La-vArwBF",
        "colab_type": "code",
        "outputId": "090dad90-c922-40ee-8780-67316d209f41",
        "colab": {
          "base_uri": "https://localhost:8080/",
          "height": 129
        }
      },
      "cell_type": "code",
      "source": [
        "# train SVMs\n",
        "svc_linear = svm.SVC(kernel='linear')\n",
        "svc_gaussian = svm.SVC(kernel='rbf')\n",
        "svc_poly = svm.SVC(kernel='poly')\n",
        "\n",
        "k_fold = KFold(n_splits=5)\n",
        "\n",
        "scores_linear = np.array([svc_linear.fit(X_train_fin[train], y_train_fin[train]).score(X_train_fin[test], y_train_fin[test]) \n",
        "for train, test in k_fold.split(X_train_fin)])\n",
        "\n",
        "scores_gaussian = np.array([svc_gaussian.fit(X_train_fin[train], y_train_fin[train]).score(X_train_fin[test], y_train_fin[test]) \n",
        "for train, test in k_fold.split(X_train_fin)])\n",
        "\n",
        "scores_poly = np.array([svc_poly.fit(X_train_fin[train], y_train_fin[train]).score(X_train_fin[test], y_train_fin[test]) \n",
        "for train, test in k_fold.split(X_train_fin)])\n",
        "\n",
        "print(\"Scores for linear SVM \", scores_linear)\n",
        "print(\"Train accuracy LINEAR: %0.2f (+/- %0.2f)\" % (scores_linear.mean(), scores_linear.std()/2))\n",
        "print(\"Scores for gaussian SVM \", scores_gaussian)\n",
        "print(\"Train accuracy GAUSSIAN: %0.2f (+/- %0.2f)\" % (scores_gaussian.mean(), scores_gaussian.std()/2))\n",
        "print(\"Scores for polynomial SVM \", scores_poly)\n",
        "print(\"Train accuracy POLY: %0.2f (+/- %0.2f)\" % (scores_poly.mean(), scores_poly.std()/2))\n",
        "\n",
        "# print(\"Train accuracy: %0.2f (+/- %0.2f)\" % (scores.mean(), scores.std()/2)) \n",
        "  \n",
        "  "
      ],
      "execution_count": 9,
      "outputs": [
        {
          "output_type": "stream",
          "text": [
            "Scores for linear SVM  [0.92522094 0.89870836 0.9292517  0.94557823 0.95918367]\n",
            "Train accuracy LINEAR: 0.93 (+/- 0.01)\n",
            "Scores for gaussian SVM  [0.91026513 0.88103331 0.9122449  0.88639456 0.95034014]\n",
            "Train accuracy GAUSSIAN: 0.91 (+/- 0.01)\n",
            "Scores for polynomial SVM  [0.9157036  0.90074779 0.93877551 0.93333333 0.93741497]\n",
            "Train accuracy POLY: 0.93 (+/- 0.01)\n"
          ],
          "name": "stdout"
        }
      ]
    },
    {
      "metadata": {
        "id": "g4YMdUWRlEbD",
        "colab_type": "code",
        "colab": {}
      },
      "cell_type": "code",
      "source": [
        "# from sklearn.model_selection import validation_curve\n",
        "\n",
        "# C_params = np.logspace(-6, 3, 10)\n",
        "\n",
        "# train_scores, test_scores = validation_curve(\n",
        "#   svc, X_train_fin, y_train_fin,\n",
        "#   param_name=\"C\", param_range=C_params,\n",
        "#   cv=5, scoring=\"accuracy\", n_jobs=-1, verbose=2)"
      ],
      "execution_count": 0,
      "outputs": []
    },
    {
      "metadata": {
        "id": "k83jleBhwGrF",
        "colab_type": "code",
        "colab": {}
      },
      "cell_type": "code",
      "source": [
        "y_pred1 = svc_linear.predict(X_test_fin)\n",
        "y_pred2 = svc_gaussian.predict(X_test_fin)\n",
        "y_pred3 = svc_poly.predict(X_test_fin)"
      ],
      "execution_count": 0,
      "outputs": []
    },
    {
      "metadata": {
        "id": "F_MC9QJvu-NJ",
        "colab_type": "code",
        "outputId": "392ddaa0-0e26-4bc3-fab1-43fe341b8b79",
        "colab": {
          "base_uri": "https://localhost:8080/",
          "height": 92
        }
      },
      "cell_type": "code",
      "source": [
        "print(\"Test accuracy:\")\n",
        "print(\"Linear \", accuracy_score(y_test_fin, y_pred1))\n",
        "print(\"Gaussian \", accuracy_score(y_test_fin, y_pred2))\n",
        "print(\"Poly \", accuracy_score(y_test_fin, y_pred3))"
      ],
      "execution_count": 12,
      "outputs": [
        {
          "output_type": "stream",
          "text": [
            "Test accuracy:\n",
            "Linear  0.9511367492365117\n",
            "Gaussian  0.9423142178486597\n",
            "Poly  0.9226331862911435\n"
          ],
          "name": "stdout"
        }
      ]
    },
    {
      "metadata": {
        "id": "CrxpsgjqwTwh",
        "colab_type": "code",
        "outputId": "208d3380-6d20-4d07-c4b4-bd0305cd84d6",
        "cellView": "both",
        "colab": {
          "base_uri": "https://localhost:8080/",
          "height": 300
        }
      },
      "cell_type": "code",
      "source": [
        "svc_linear.fit(X_train_fin, y_train_fin)\n",
        "\n",
        "crosstab = pd.crosstab(y_test_fin.flatten(), svc_linear.predict(X_test_fin),\n",
        "                      rownames=['True'], colnames=['Predicted'],\n",
        "                      margins=True)\n",
        "crosstab"
      ],
      "execution_count": 15,
      "outputs": [
        {
          "output_type": "execute_result",
          "data": {
            "text/html": [
              "<div>\n",
              "<style scoped>\n",
              "    .dataframe tbody tr th:only-of-type {\n",
              "        vertical-align: middle;\n",
              "    }\n",
              "\n",
              "    .dataframe tbody tr th {\n",
              "        vertical-align: top;\n",
              "    }\n",
              "\n",
              "    .dataframe thead th {\n",
              "        text-align: right;\n",
              "    }\n",
              "</style>\n",
              "<table border=\"1\" class=\"dataframe\">\n",
              "  <thead>\n",
              "    <tr style=\"text-align: right;\">\n",
              "      <th>Predicted</th>\n",
              "      <th>1</th>\n",
              "      <th>2</th>\n",
              "      <th>3</th>\n",
              "      <th>4</th>\n",
              "      <th>5</th>\n",
              "      <th>6</th>\n",
              "      <th>All</th>\n",
              "    </tr>\n",
              "    <tr>\n",
              "      <th>True</th>\n",
              "      <th></th>\n",
              "      <th></th>\n",
              "      <th></th>\n",
              "      <th></th>\n",
              "      <th></th>\n",
              "      <th></th>\n",
              "      <th></th>\n",
              "    </tr>\n",
              "  </thead>\n",
              "  <tbody>\n",
              "    <tr>\n",
              "      <th>1</th>\n",
              "      <td>495</td>\n",
              "      <td>0</td>\n",
              "      <td>1</td>\n",
              "      <td>0</td>\n",
              "      <td>0</td>\n",
              "      <td>0</td>\n",
              "      <td>496</td>\n",
              "    </tr>\n",
              "    <tr>\n",
              "      <th>2</th>\n",
              "      <td>15</td>\n",
              "      <td>455</td>\n",
              "      <td>1</td>\n",
              "      <td>0</td>\n",
              "      <td>0</td>\n",
              "      <td>0</td>\n",
              "      <td>471</td>\n",
              "    </tr>\n",
              "    <tr>\n",
              "      <th>3</th>\n",
              "      <td>6</td>\n",
              "      <td>15</td>\n",
              "      <td>399</td>\n",
              "      <td>0</td>\n",
              "      <td>0</td>\n",
              "      <td>0</td>\n",
              "      <td>420</td>\n",
              "    </tr>\n",
              "    <tr>\n",
              "      <th>4</th>\n",
              "      <td>0</td>\n",
              "      <td>2</td>\n",
              "      <td>0</td>\n",
              "      <td>433</td>\n",
              "      <td>56</td>\n",
              "      <td>0</td>\n",
              "      <td>491</td>\n",
              "    </tr>\n",
              "    <tr>\n",
              "      <th>5</th>\n",
              "      <td>0</td>\n",
              "      <td>0</td>\n",
              "      <td>0</td>\n",
              "      <td>17</td>\n",
              "      <td>515</td>\n",
              "      <td>0</td>\n",
              "      <td>532</td>\n",
              "    </tr>\n",
              "    <tr>\n",
              "      <th>6</th>\n",
              "      <td>0</td>\n",
              "      <td>0</td>\n",
              "      <td>0</td>\n",
              "      <td>0</td>\n",
              "      <td>0</td>\n",
              "      <td>537</td>\n",
              "      <td>537</td>\n",
              "    </tr>\n",
              "    <tr>\n",
              "      <th>All</th>\n",
              "      <td>516</td>\n",
              "      <td>472</td>\n",
              "      <td>401</td>\n",
              "      <td>450</td>\n",
              "      <td>571</td>\n",
              "      <td>537</td>\n",
              "      <td>2947</td>\n",
              "    </tr>\n",
              "  </tbody>\n",
              "</table>\n",
              "</div>"
            ],
            "text/plain": [
              "Predicted    1    2    3    4    5    6   All\n",
              "True                                         \n",
              "1          495    0    1    0    0    0   496\n",
              "2           15  455    1    0    0    0   471\n",
              "3            6   15  399    0    0    0   420\n",
              "4            0    2    0  433   56    0   491\n",
              "5            0    0    0   17  515    0   532\n",
              "6            0    0    0    0    0  537   537\n",
              "All        516  472  401  450  571  537  2947"
            ]
          },
          "metadata": {
            "tags": []
          },
          "execution_count": 15
        }
      ]
    },
    {
      "metadata": {
        "id": "0Q6G35IzR1yg",
        "colab_type": "code",
        "colab": {}
      },
      "cell_type": "code",
      "source": [
        ""
      ],
      "execution_count": 0,
      "outputs": []
    }
  ]
}